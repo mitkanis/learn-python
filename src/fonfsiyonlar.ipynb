{
 "cells": [
  {
   "cell_type": "code",
   "execution_count": 12,
   "metadata": {},
   "outputs": [
    {
     "name": "stdout",
     "output_type": "stream",
     "text": [
      "23\n"
     ]
    }
   ],
   "source": [
    "def topla(x,y):\n",
    "    return x+y\n",
    "print(topla(8,5)+10)"
   ]
  },
  {
   "cell_type": "code",
   "execution_count": 11,
   "metadata": {},
   "outputs": [
    {
     "name": "stdout",
     "output_type": "stream",
     "text": [
      "14'dir bunun adı\n"
     ]
    }
   ],
   "source": [
    "def topla(m,y):\n",
    "    print(f\"{m+y}'dir bunun adı\")\n",
    "    \n",
    "topla(5,9)"
   ]
  },
  {
   "cell_type": "code",
   "execution_count": 12,
   "metadata": {},
   "outputs": [
    {
     "name": "stdout",
     "output_type": "stream",
     "text": [
      "ben türkiye vatandaşıyım.\n",
      "ben almanya vatandaşıyım.\n",
      "ben fransa vatandaşıyım.\n",
      "ben dünya vatandaşıyım.\n"
     ]
    }
   ],
   "source": [
    "def ulke_soyleyici(ulke='dünya'):\n",
    "    print('ben '+ ulke + \" vatandaşıyım.\")\n",
    "\n",
    "ulke_soyleyici(\"türkiye\")\n",
    "ulke_soyleyici(\"almanya\")\n",
    "ulke_soyleyici(\"fransa\")\n",
    "ulke_soyleyici()\n",
    "\n",
    "    "
   ]
  },
  {
   "cell_type": "markdown",
   "metadata": {},
   "source": [
    "## LAMBDA"
   ]
  },
  {
   "cell_type": "code",
   "execution_count": 14,
   "metadata": {},
   "outputs": [
    {
     "name": "stdout",
     "output_type": "stream",
     "text": [
      "14\n"
     ]
    }
   ],
   "source": [
    "yeni_topla=lambda x,y:print(x+y)\n",
    "yeni_topla(6,8)"
   ]
  },
  {
   "cell_type": "markdown",
   "metadata": {},
   "source": [
    "## TAHMİN OYUNU"
   ]
  },
  {
   "cell_type": "code",
   "execution_count": 29,
   "metadata": {},
   "outputs": [
    {
     "name": "stdout",
     "output_type": "stream",
     "text": [
      "64\n",
      "tekrardan deneyiniz\n",
      "tekrardan deneyiniz\n",
      "doğru sayi\n"
     ]
    }
   ],
   "source": [
    "import random ## import:kütüphane\n",
    "\n",
    "rastgele_sayi=random.randint(1,100)\n",
    "tahmin=None\n",
    "print(rastgele_sayi)\n",
    "\n",
    "while rastgele_sayi!=tahmin:\n",
    "    tahmin=int(input(' 1-100 arasi sayi giriniz'))\n",
    "    if tahmin==rastgele_sayi:\n",
    "        print('doğru sayi')\n",
    "        break\n",
    "    else:\n",
    "        print('tekrardan deneyiniz')\n",
    "        \n"
   ]
  }
 ],
 "metadata": {
  "kernelspec": {
   "display_name": "Python 3",
   "language": "python",
   "name": "python3"
  },
  "language_info": {
   "codemirror_mode": {
    "name": "ipython",
    "version": 3
   },
   "file_extension": ".py",
   "mimetype": "text/x-python",
   "name": "python",
   "nbconvert_exporter": "python",
   "pygments_lexer": "ipython3",
   "version": "3.11.9"
  }
 },
 "nbformat": 4,
 "nbformat_minor": 2
}
