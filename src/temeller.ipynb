{
 "cells": [
  {
   "cell_type": "markdown",
   "metadata": {},
   "source": [
    "bu benim ilk kodum"
   ]
  },
  {
   "cell_type": "code",
   "execution_count": 36,
   "metadata": {},
   "outputs": [
    {
     "name": "stdout",
     "output_type": "stream",
     "text": [
      "merhaba ben şevval\n",
      "merhaba ben şevval\n",
      "merhaba ben şevval\n",
      "merhaba ben şevval\n",
      "merhaba ben şevval\n"
     ]
    }
   ],
   "source": [
    "print('merhaba ben şevval') # 13.02.2024\n",
    "print('merhaba ben şevval')\n",
    "print('merhaba ben şevval')\n",
    "print('merhaba ben şevval')\n",
    "print('merhaba ben şevval')\n"
   ]
  },
  {
   "cell_type": "code",
   "execution_count": 1,
   "metadata": {},
   "outputs": [
    {
     "data": {
      "text/plain": [
       "0.36781609195402304"
      ]
     },
     "execution_count": 1,
     "metadata": {},
     "output_type": "execute_result"
    }
   ],
   "source": [
    "3+4\n",
    "5-7\n",
    "3.2/8.7"
   ]
  },
  {
   "cell_type": "code",
   "execution_count": 2,
   "metadata": {},
   "outputs": [
    {
     "data": {
      "text/plain": [
       "4.840000000000001"
      ]
     },
     "execution_count": 2,
     "metadata": {},
     "output_type": "execute_result"
    }
   ],
   "source": [
    "a=4\n",
    "b=7\n",
    "a+b\n",
    "4\n",
    "a\n",
    "b\n",
    "x=2.2\n",
    "2.2*2.2\n",
    "x*x"
   ]
  },
  {
   "cell_type": "code",
   "execution_count": 3,
   "metadata": {},
   "outputs": [
    {
     "data": {
      "text/plain": [
       "0"
      ]
     },
     "execution_count": 3,
     "metadata": {},
     "output_type": "execute_result"
    }
   ],
   "source": [
    "_balim=14\n",
    "_balim-_balim"
   ]
  },
  {
   "cell_type": "code",
   "execution_count": 4,
   "metadata": {},
   "outputs": [
    {
     "data": {
      "text/plain": [
       "50.24"
      ]
     },
     "execution_count": 4,
     "metadata": {},
     "output_type": "execute_result"
    }
   ],
   "source": [
    "pi_sayisi=3.14\n",
    "r=8\n",
    "cevre=pi_sayisi*r*2\n",
    "cevre\n"
   ]
  },
  {
   "cell_type": "code",
   "execution_count": 5,
   "metadata": {},
   "outputs": [],
   "source": [
    "x,y=8,5\n",
    "y,x\n",
    "x\n",
    "y\n",
    "x,y=y,x"
   ]
  },
  {
   "cell_type": "code",
   "execution_count": 6,
   "metadata": {},
   "outputs": [
    {
     "data": {
      "text/plain": [
       "4.5"
      ]
     },
     "execution_count": 6,
     "metadata": {},
     "output_type": "execute_result"
    }
   ],
   "source": [
    "m=6\n",
    "m\n",
    "m+=3\n",
    "m\n",
    "m/=2\n",
    "m"
   ]
  },
  {
   "cell_type": "code",
   "execution_count": 7,
   "metadata": {},
   "outputs": [
    {
     "data": {
      "text/plain": [
       "'sevval seckin'"
      ]
     },
     "execution_count": 7,
     "metadata": {},
     "output_type": "execute_result"
    }
   ],
   "source": [
    "e=9\n",
    "e\n",
    "b=3\n",
    "e/b\n",
    "sevval=8\n",
    "sevval\n",
    "sevval='sevval seckin'\n",
    "sevval\n"
   ]
  },
  {
   "cell_type": "code",
   "execution_count": 8,
   "metadata": {},
   "outputs": [
    {
     "data": {
      "text/plain": [
       "'ahmet arda arda'"
      ]
     },
     "execution_count": 8,
     "metadata": {},
     "output_type": "execute_result"
    }
   ],
   "source": [
    "\n",
    "isim,soyisim=' ahmet arda','kavakci'\n",
    "isim+soyisim\n",
    "isim+'soyisim'\n",
    "isim+' '+soyisim\n",
    "isim='ahmet'\n",
    "isim\n",
    "isim+=' arda'\n",
    "isim\n",
    "isim+' '+soyisim\n",
    "isim+=' arda'\n",
    "isim+' '+soyisim\n",
    "isim \n",
    "# istediğimi yazdım balımı cok seviyorum (13.02.2024)"
   ]
  },
  {
   "cell_type": "code",
   "execution_count": 9,
   "metadata": {},
   "outputs": [
    {
     "data": {
      "text/plain": [
       "1"
      ]
     },
     "execution_count": 9,
     "metadata": {},
     "output_type": "execute_result"
    }
   ],
   "source": [
    "10%8\n",
    "9%4\n"
   ]
  },
  {
   "cell_type": "code",
   "execution_count": 10,
   "metadata": {},
   "outputs": [
    {
     "data": {
      "text/plain": [
       "15"
      ]
     },
     "execution_count": 10,
     "metadata": {},
     "output_type": "execute_result"
    }
   ],
   "source": [
    "teksayilar=[1,3,5,7,9,11,13,15,17,19]\n",
    "teksayilar[4]\n",
    "teksayilar[7]\n"
   ]
  },
  {
   "cell_type": "code",
   "execution_count": 11,
   "metadata": {},
   "outputs": [
    {
     "ename": "TypeError",
     "evalue": "can only concatenate list (not \"int\") to list",
     "output_type": "error",
     "traceback": [
      "\u001b[1;31m---------------------------------------------------------------------------\u001b[0m",
      "\u001b[1;31mTypeError\u001b[0m                                 Traceback (most recent call last)",
      "Cell \u001b[1;32mIn[11], line 3\u001b[0m\n\u001b[0;32m      1\u001b[0m teksayilar\n\u001b[0;32m      2\u001b[0m tumsayilar\u001b[38;5;241m=\u001b[39m[\u001b[38;5;241m0\u001b[39m,\u001b[38;5;241m1\u001b[39m,\u001b[38;5;241m2\u001b[39m,\u001b[38;5;241m3\u001b[39m,\u001b[38;5;241m4\u001b[39m,\u001b[38;5;241m5\u001b[39m,\u001b[38;5;241m6\u001b[39m,\u001b[38;5;241m7\u001b[39m,\u001b[38;5;241m8\u001b[39m,\u001b[38;5;241m9\u001b[39m,\u001b[38;5;241m10\u001b[39m,\u001b[38;5;241m11\u001b[39m,\u001b[38;5;241m12\u001b[39m,\u001b[38;5;241m13\u001b[39m,\u001b[38;5;241m14\u001b[39m,\u001b[38;5;241m15\u001b[39m,\u001b[38;5;241m16\u001b[39m,\u001b[38;5;241m17\u001b[39m,\u001b[38;5;241m18\u001b[39m,\u001b[38;5;241m19\u001b[39m,\u001b[38;5;241m20\u001b[39m]\n\u001b[1;32m----> 3\u001b[0m ciftsayilar\u001b[38;5;241m=\u001b[39m\u001b[43mteksayilar\u001b[49m\u001b[38;5;241;43m+\u001b[39;49m\u001b[38;5;241;43m1\u001b[39;49m\n",
      "\u001b[1;31mTypeError\u001b[0m: can only concatenate list (not \"int\") to list"
     ]
    }
   ],
   "source": [
    "teksayilar\n",
    "tumsayilar=[0,1,2,3,4,5,6,7,8,9,10,11,12,13,14,15,16,17,18,19,20]\n",
    "ciftsayilar=teksayilar+1\n",
    "\n"
   ]
  },
  {
   "cell_type": "code",
   "execution_count": null,
   "metadata": {},
   "outputs": [
    {
     "data": {
      "text/plain": [
       "{0, 2, 4, 6, 8, 10, 12, 14}"
      ]
     },
     "execution_count": 54,
     "metadata": {},
     "output_type": "execute_result"
    }
   ],
   "source": [
    "ciftsayilar={0,2,4,4,6,8,8,10,12,14}\n",
    "ciftsayilar"
   ]
  },
  {
   "cell_type": "code",
   "execution_count": null,
   "metadata": {},
   "outputs": [
    {
     "name": "stdout",
     "output_type": "stream",
     "text": [
      "10\n"
     ]
    }
   ],
   "source": [
    "print(5+5)"
   ]
  },
  {
   "cell_type": "code",
   "execution_count": null,
   "metadata": {},
   "outputs": [
    {
     "name": "stdout",
     "output_type": "stream",
     "text": [
      "sayi\n"
     ]
    }
   ],
   "source": [
    "print(\"sayi\") #stringler tırnak içerisinde yazılır."
   ]
  },
  {
   "cell_type": "code",
   "execution_count": null,
   "metadata": {},
   "outputs": [
    {
     "name": "stdout",
     "output_type": "stream",
     "text": [
      "[8, 6]\n",
      "[7, 8, 8, 6, 2, 5, 3]\n",
      "3\n",
      "merhaba\n"
     ]
    },
    {
     "data": {
      "text/plain": [
       "10"
      ]
     },
     "execution_count": 10,
     "metadata": {},
     "output_type": "execute_result"
    }
   ],
   "source": [
    "a=[7,8,8,6,2,5,3]\n",
    "b=3\n",
    "a_uzunluk=len(a) #\"len\" uzunluk bulmada kullanılır.\n",
    "a_uzunluk\n",
    "özaltküme=2**a_uzunluk\n",
    "özaltküme\n",
    "2.7/4.2\n",
    "2.7//4.2\n",
    "2**0.5\n",
    "print(a[1:5:2]) # for(int i=0;i<5;i++)\n",
    "a[5]\n",
    "'sevval\"balim\" seckin'\n",
    "\"sevval'balim' seckin\"\n",
    "'sevval\"\"\"balim\"\"\"seckin'\n",
    "print(a)\n",
    "print(b)\n",
    "a\n",
    "print('merhaba')\n",
    "(5*5)\n",
    "x='beyza'\n",
    "x[2]\n",
    "x[-2]\n",
    "x[:5:2]\n",
    "e='mürettabat'\n",
    "e_uzunluk=len(e)\n",
    "e_uzunluk\n"
   ]
  },
  {
   "cell_type": "code",
   "execution_count": null,
   "metadata": {},
   "outputs": [
    {
     "ename": "ValueError",
     "evalue": "invalid literal for int() with base 10: '98.589'",
     "output_type": "error",
     "traceback": [
      "\u001b[1;31m---------------------------------------------------------------------------\u001b[0m",
      "\u001b[1;31mValueError\u001b[0m                                Traceback (most recent call last)",
      "Cell \u001b[1;32mIn[11], line 13\u001b[0m\n\u001b[0;32m     11\u001b[0m p\u001b[38;5;241m=\u001b[39m\u001b[38;5;124m\"\u001b[39m\u001b[38;5;124m98.589\u001b[39m\u001b[38;5;124m\"\u001b[39m\n\u001b[0;32m     12\u001b[0m \u001b[38;5;28mfloat\u001b[39m(p)\n\u001b[1;32m---> 13\u001b[0m \u001b[38;5;28;43mint\u001b[39;49m\u001b[43m(\u001b[49m\u001b[43mp\u001b[49m\u001b[43m)\u001b[49m\u001b[38;5;66;03m#HATA\u001b[39;00m\n",
      "\u001b[1;31mValueError\u001b[0m: invalid literal for int() with base 10: '98.589'"
     ]
    }
   ],
   "source": [
    "e=19\n",
    "e=float(e)#\"float\" ondalıklı sayılarda kullandığımız bir terimdir\n",
    "float(-e)\n",
    "b=6.8\n",
    "b=int(b)\n",
    "b\n",
    "str(698575)\n",
    "a=\"459852\"\n",
    "int(a)\n",
    "p=\"98.589\"\n",
    "float(p)\n",
    "int(p)#HATA\n",
    "\n",
    "\n",
    "\n"
   ]
  },
  {
   "cell_type": "code",
   "execution_count": null,
   "metadata": {},
   "outputs": [
    {
     "name": "stdout",
     "output_type": "stream",
     "text": [
      "bugun\n",
      "hava\n",
      "cok\n",
      "guzel\n",
      "çiçekler\tguzeldir\n"
     ]
    }
   ],
   "source": [
    "print(\"bugun\\nhava\\ncok\\nguzel\") # (\\n) alt alta bir şey yazmak istediğinde kullan.  16.12.2024\n",
    "print(\"çiçekler\\tguzeldir\") # (\\t) bir tab (4) kadar boşluk  bırakır.-> çiçekler    güzeldir.\n",
    "\n",
    "\n"
   ]
  },
  {
   "cell_type": "code",
   "execution_count": null,
   "metadata": {},
   "outputs": [
    {
     "data": {
      "text/plain": [
       "str"
      ]
     },
     "execution_count": 7,
     "metadata": {},
     "output_type": "execute_result"
    }
   ],
   "source": [
    "type(79) # int\n",
    "type(3.14) # float\n",
    "type(\"sevval\") # str\n"
   ]
  },
  {
   "cell_type": "code",
   "execution_count": null,
   "metadata": {},
   "outputs": [
    {
     "name": "stdout",
     "output_type": "stream",
     "text": [
      "1 3 5 7 9\n",
      "1-3-5-7-9\n",
      "ö/d/e/v\n",
      "ödev\n",
      "ö d e v\n"
     ]
    }
   ],
   "source": [
    "print(1,3,5,7,9)\n",
    "print(1,3,5,7,9,sep=\"-\") # sep paremetrisi SEPERATOR\n",
    "print(*\"ödev\",sep='/')\n",
    "print(\"ödev\")\n",
    "print(*\"ödev\")# (*) ->(1) tab boşuk bırakır."
   ]
  },
  {
   "cell_type": "code",
   "execution_count": null,
   "metadata": {},
   "outputs": [
    {
     "name": "stdout",
     "output_type": "stream",
     "text": [
      "27\n",
      "[9, 8, 7, 6]\n",
      "[9, 8, 7, 6, 9, 8, 7, 6, 9, 8, 7, 6]\n"
     ]
    }
   ],
   "source": [
    "x=8.9\n",
    "y=6.4\n",
    "x+y\n",
    "'{}+{}={}'.format(x,y,x+y)\n",
    "'{3} {0} {2} {1}'.format('yasındayım','ben',19,'olacagım')\n",
    "\"{:.3f}\".format(6.895428) # (:.xf),x=int->seçtiğin x kadar olan yeri alır.\n",
    "liste=['koşmak','yürümek',23,6]\n",
    "type(liste)\n",
    "liste={4,6,9,6,3,5,2,1,3,8}\n",
    "liste_uzunluk=len(liste)\n",
    "len(liste)\n",
    "liste2=list(\"seckin\")\n",
    "liste2\n",
    "liste2_uzunluk=len(liste2)\n",
    "len(liste2)\n",
    "liste3=[8,6,3,5,7,8,2,4,9]\n",
    "liste3[-1]\n",
    "liste3[-3]=8\n",
    "liste3\n",
    "liste3[-3]\n",
    "liste4=[1,2,3,4,5,6,7,8,9]\n",
    "liste4[2:8]\n",
    "liste4[::-2]\n",
    "listea=[3,5,8]\n",
    "listeb=[8,7,6]\n",
    "listec=listea+listeb\n",
    "listec\n",
    "listec={3, 5, 8, 8, 7, 6}\n",
    "listec_uznluk=len(listec)\n",
    "len(listec)\n",
    "\n",
    "listef=[1,3,5,8,9,]\n",
    "listef.append(2) # (append)->liste'nin sonuna yeni bir elemen ekler.\n",
    "listef\n",
    "listef.pop(-1) # listeden istediğin elemanı siler.\n",
    "listef\n",
    "listek=[5,6,8,2,1,3]\n",
    "listek.sort() # küçükten büyüğe siralama\n",
    "listek\n",
    "listek.sort(reverse=True) # büyükten küçüğe siralama\n",
    "listek\n",
    "liste5=[1,3,5,8]\n",
    "liste5[1:3]=[2,6]\n",
    "liste5\n",
    "\n",
    "def carpi3(sayi): # balım öğretti<3\n",
    "    return sayi*3\n",
    "\n",
    "print(carpi3(9))\n",
    "\n",
    "listeş=[\"elma\",\"armut\",\"mandalina\",\"karpuz\"] # alfabetik sıralamada yapabilirisin.\n",
    "listeş.sort()\n",
    "listeş\n",
    "\n",
    "liste22=[[4,3],[8,6],[5,2],[1,0]] #İKİ BOYUTLU LİSTE BALIM ADINI ÖĞREN DEDİ\n",
    "liste22[3]\n",
    "liste22[3][1]\n",
    "\n",
    "listeq=[1,2,3,4,5]\n",
    "listeq=[9,8,7,6]\n",
    "listeq*3\n",
    "print(listeq) #(9,8,7,6)\n",
    "print(listeq*3) #(9,8,7,6,9,8,7,6,9,8,7,6)\n",
    "\n",
    "\n",
    "\n",
    "\n"
   ]
  },
  {
   "cell_type": "code",
   "execution_count": null,
   "metadata": {},
   "outputs": [
    {
     "data": {
      "text/plain": [
       "['pazartesi', 'sali', 'çarşamba', 'perşembe', 'cuma']"
      ]
     },
     "execution_count": 34,
     "metadata": {},
     "output_type": "execute_result"
    }
   ],
   "source": [
    "listeh=[\"pazartesi\",\"sali\",\"çarşamba\",\"perşembe\",\"cuma\",\"cumartesi\",\"pazar\"]  #balımla örnekler\n",
    "listeh[:5]\n",
    "listeh\n",
    "listeh[5:]\n",
    "haftasonu=['cumartesi', 'pazar']\n",
    "haftaici=listeh[:5]\n",
    "haftaici\n",
    "\n",
    "\n"
   ]
  },
  {
   "cell_type": "code",
   "execution_count": null,
   "metadata": {},
   "outputs": [
    {
     "data": {
      "text/plain": [
       "['anil', 'akif']"
      ]
     },
     "execution_count": 2,
     "metadata": {},
     "output_type": "execute_result"
    }
   ],
   "source": [
    "sonbahar_aylari=[\"eylül\",\"ekim\",\"kasim\"]\n",
    "kis_aylari=[\"aralik\",\"ocak\",\"şubat\"]\n",
    "ilbahar_aylari=[\"mart\",\"nisan\",\"mayis\"]\n",
    "yaz_aylari=[\"haziran\",\"temmuz\",\"agustos\"]\n",
    "sicak_aylar=[ilbahar_aylari,yaz_aylari]\n",
    "sicak_aylar\n",
    "soguk_aylar=[sonbahar_aylari,kis_aylari]\n",
    "soguk_aylar\n",
    "tum_aylar=sicak_aylar+soguk_aylar\n",
    "tum_aylar\n",
    "tum_aylar=\"sicak_aylar+soguk_aylar\"\n",
    "tum_aylar\n",
    "\n",
    "arda={\n",
    "    \"isim\": \"arda\",\n",
    "    \"soyisim\":\"kavakci\",\n",
    "    \"yas\":22\n",
    "}\n",
    "arda[\"isim\"]\n",
    "arda[\"soyisim\"]\n",
    "arda[\"yas\"]\n",
    "\n",
    "sevval={\n",
    "    \"isim\":\"sevval\",\n",
    "    \"soyisim\":\"seckin\",\n",
    "    \"yas\":19\n",
    "}\n",
    "sevval[\"isim\"]\n",
    "\n",
    "ortalama=(arda[\"yas\"]+sevval[\"yas\"])/2\n",
    "ortalama\n",
    "\n",
    "kyk_odalari={\n",
    "    \"101_oda\":[\"sevval\",\"arda\"],\n",
    "    \"658_0da\":[\"anil\",\"akif\"],\n",
    "}\n",
    "kyk_odalari[\"101_oda\"]\n",
    "kyk_odalari[\"658_0da\"]\n",
    "\n"
   ]
  },
  {
   "cell_type": "code",
   "execution_count": null,
   "metadata": {},
   "outputs": [
    {
     "data": {
      "text/plain": [
       "['matematik', 'fizik', 'biyoloji', 'edebiyat', 'beden', 'resim', 'müzik']"
      ]
     },
     "execution_count": 38,
     "metadata": {},
     "output_type": "execute_result"
    }
   ],
   "source": [
    "okuldaki_dersler=['matematik','fizik','biyoloji','kimya','edebiyat','beden','resim','müzik']   #29.02.2024\n",
    "okuldaki_dersler.pop(3) #\"pop\" seçtiğini listeden çıkartır.\n",
    "okuldaki_dersler \n",
    "\n"
   ]
  },
  {
   "cell_type": "code",
   "execution_count": null,
   "metadata": {},
   "outputs": [
    {
     "data": {
      "text/plain": [
       "[9, 5, 6, 2, 1]"
      ]
     },
     "execution_count": 39,
     "metadata": {},
     "output_type": "execute_result"
    }
   ],
   "source": [
    "listex=[9,5,6,2,3,1]\n",
    "listex.pop(-2)\n",
    "listex"
   ]
  },
  {
   "cell_type": "code",
   "execution_count": null,
   "metadata": {},
   "outputs": [
    {
     "data": {
      "text/plain": [
       "'kocaeli'"
      ]
     },
     "execution_count": 40,
     "metadata": {},
     "output_type": "execute_result"
    }
   ],
   "source": [
    "şehirler={\n",
    "    '1_şehir':\"antalya\",\n",
    "    '2_şehir':\"izmir\",\n",
    "    '3_şehir':\"kocaeli\",\n",
    "}\n",
    "şehirler['1_şehir']\n",
    "şehirler['3_şehir']"
   ]
  },
  {
   "cell_type": "code",
   "execution_count": null,
   "metadata": {},
   "outputs": [
    {
     "data": {
      "text/plain": [
       "['pantolon', 'etek', 'eşofman']"
      ]
     },
     "execution_count": 41,
     "metadata": {},
     "output_type": "execute_result"
    }
   ],
   "source": [
    "kıyafet_çeşitleri={\n",
    "    'alt_giyim':\"pantolon,etek,eşofman,şort\",\n",
    "    'üst_giyim':\"bluz,kazak,t-shirt,sweatshirt\",\n",
    "    'diş_giyim':\"kaban,mont,yelek,ceket,hırka\",\n",
    "}\n",
    "kıyafet_çeşitleri['alt_giyim']\n",
    "alt_giyim=['pantolon','etek','eşofman','şort']\n",
    "alt_giyim\n",
    "alt_giyim.pop(3)\n",
    "alt_giyim"
   ]
  },
  {
   "cell_type": "code",
   "execution_count": null,
   "metadata": {},
   "outputs": [
    {
     "data": {
      "text/plain": [
       "['beyaz',\n",
       " 'camgöbeği',\n",
       " 'kırmızı',\n",
       " 'laciveret',\n",
       " 'mavi',\n",
       " 'mor',\n",
       " 'sarı',\n",
       " 'siyah',\n",
       " 'turkuaz',\n",
       " 'turuncu',\n",
       " 'yeşil']"
      ]
     },
     "execution_count": 14,
     "metadata": {},
     "output_type": "execute_result"
    }
   ],
   "source": [
    "liste_renkler=[\"kırmızı\",\"mavi\",\"yeşil\",\"sarı\",\"turuncu\",\"siyah\",\"mor\",\"laciveret\",\"camgöbeği\",\"turkuaz\",\"beyaz\"]\n",
    "liste_renkler[:2]\n",
    "liste_renkler\n",
    "liste_renkler.sort() #\"sort\" bir dizide küçükten büyüğe sıralar.\n",
    "liste_renkler\n",
    "liste_renkler[2:4]\n",
    "liste_renkler[:3]\n",
    "liste_renkler\n"
   ]
  },
  {
   "cell_type": "code",
   "execution_count": 4,
   "metadata": {},
   "outputs": [
    {
     "data": {
      "text/plain": [
       "['1.65', '1.77', '1.84', '1.92']"
      ]
     },
     "execution_count": 4,
     "metadata": {},
     "output_type": "execute_result"
    }
   ],
   "source": [
    "sınıftaki_insanların_boy_sıralaması={\n",
    "        'kızlar':[\"1.60\",\"1.59\",\"1.86\",\"1.45\",\"1.72\"],\n",
    "        'erkekler':[\"1.92\",\"1.65\",\"1.77\",\"1.84\"],\n",
    "}\n",
    "sınıftaki_insanların_boy_sıralaması[\"kızlar\"]\n",
    "kızlar=['1.60', '1.59', '1.86', '1.45', '1.72']\n",
    "kızlar\n",
    "kızlar.sort()\n",
    "kızlar\n",
    "sınıftaki_insanların_boy_sıralaması[\"erkekler\"]\n",
    "erkekler=['1.92', '1.65', '1.77', '1.84']\n",
    "erkekler\n",
    "erkekler.sort()\n",
    "erkekler\n",
    "\n"
   ]
  },
  {
   "cell_type": "code",
   "execution_count": 1,
   "metadata": {},
   "outputs": [
    {
     "data": {
      "text/plain": [
       "[1, 6, 9, 10, 16]"
      ]
     },
     "execution_count": 1,
     "metadata": {},
     "output_type": "execute_result"
    }
   ],
   "source": [
    "#TAMAMEN TEKRAR AMAÇLI\n",
    "\n",
    "sayilar=[1,6,16,9,10]\n",
    "sayilar.sort()\n",
    "sayilar\n",
    "\n"
   ]
  }
 ],
 "metadata": {
  "kernelspec": {
   "display_name": "Python 3",
   "language": "python",
   "name": "python3"
  },
  "language_info": {
   "codemirror_mode": {
    "name": "ipython",
    "version": 3
   },
   "file_extension": ".py",
   "mimetype": "text/x-python",
   "name": "python",
   "nbconvert_exporter": "python",
   "pygments_lexer": "ipython3",
   "version": "3.11.undefined"
  }
 },
 "nbformat": 4,
 "nbformat_minor": 2
}
