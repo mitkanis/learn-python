{
 "cells": [
  {
   "cell_type": "code",
   "execution_count": 13,
   "metadata": {},
   "outputs": [
    {
     "name": "stdout",
     "output_type": "stream",
     "text": [
      "10\n",
      "EVE GİDİN TTT\n"
     ]
    }
   ],
   "source": [
    "#KOŞULLAR\n",
    "puan= int(input(\"türkçe puanın nedir?\"))\n",
    "print(puan)\n",
    "if puan>=85:\n",
    "    print(\"tiyatroya gidebilir\")\n",
    "elif puan>=60 and puan<85:\n",
    "    print(\"top oynayabilir\")\n",
    "else:\n",
    "    print(\"EVE GİDİN TTT\")  "
   ]
  },
  {
   "cell_type": "code",
   "execution_count": 1,
   "metadata": {},
   "outputs": [
    {
     "name": "stdout",
     "output_type": "stream",
     "text": [
      "evet\n",
      "firin kullanılabilir\n",
      "yemeği pişirebilirisin\n"
     ]
    }
   ],
   "source": [
    "elektrik= input(\"elektrik var mı?\")\n",
    "print(elektrik)\n",
    "if elektrik==\"evet\":\n",
    "    print(\"firin kullanılabilir\")\n",
    "    yemekler={\n",
    "        \"lazanya\":110,\n",
    "        \"köfte\":170,\n",
    "        \"patates\":80,\n",
    "        \"browni\":50,\n",
    "    }\n",
    "    yemek=input(\"3 çeşitten hangi yemeği yapacaksın? lazanya,köfte,patates,browni\")\n",
    "    if yemekler[yemek]>100 or yemekler[yemek]==50:  #fırın 100 derece altındaki ürünlei pişiremez.\n",
    "        print(\"yemeği pişirebilirisin\")\n",
    "    else:\n",
    "        print(\"yemeği pişiremezsin\")\n",
    "elif elektrik==\"hayır\":\n",
    "    print(\"firin kullanılamaz\")\n",
    "else:\n",
    "    print(\"evet veya hayır yazınız\")\n",
    "\n",
    "\n",
    "\n",
    "\n"
   ]
  },
  {
   "cell_type": "code",
   "execution_count": 2,
   "metadata": {},
   "outputs": [
    {
     "ename": "ValueError",
     "evalue": "invalid literal for int() with base 10: ''",
     "output_type": "error",
     "traceback": [
      "\u001b[1;31m---------------------------------------------------------------------------\u001b[0m",
      "\u001b[1;31mValueError\u001b[0m                                Traceback (most recent call last)",
      "Cell \u001b[1;32mIn[2], line 1\u001b[0m\n\u001b[1;32m----> 1\u001b[0m yas\u001b[38;5;241m=\u001b[39m\u001b[38;5;28;43mint\u001b[39;49m\u001b[43m(\u001b[49m\u001b[38;5;28;43minput\u001b[39;49m\u001b[43m(\u001b[49m\u001b[38;5;124;43m\"\u001b[39;49m\u001b[38;5;124;43myasınız nedir?\u001b[39;49m\u001b[38;5;124;43m\"\u001b[39;49m\u001b[43m)\u001b[49m\u001b[43m)\u001b[49m\n\u001b[0;32m      2\u001b[0m \u001b[38;5;28mprint\u001b[39m(yas)\n\u001b[0;32m      3\u001b[0m \u001b[38;5;28;01mif\u001b[39;00m yas\u001b[38;5;241m>\u001b[39m\u001b[38;5;241m=\u001b[39m\u001b[38;5;241m18\u001b[39m \u001b[38;5;129;01mand\u001b[39;00m yas\u001b[38;5;241m<\u001b[39m\u001b[38;5;241m80\u001b[39m:\n",
      "\u001b[1;31mValueError\u001b[0m: invalid literal for int() with base 10: ''"
     ]
    }
   ],
   "source": [
    "yas=int(input(\"yasınız nedir?\"))\n",
    "print(yas)\n",
    "if yas>=18 and yas<80:\n",
    "    print(\"arabayı sürebilir\")\n",
    "else:\n",
    "    print(\"arabayı süremez\")\n",
    "    "
   ]
  }
 ],
 "metadata": {
  "kernelspec": {
   "display_name": "Python 3",
   "language": "python",
   "name": "python3"
  },
  "language_info": {
   "codemirror_mode": {
    "name": "ipython",
    "version": 3
   },
   "file_extension": ".py",
   "mimetype": "text/x-python",
   "name": "python",
   "nbconvert_exporter": "python",
   "pygments_lexer": "ipython3",
   "version": "3.11.9"
  }
 },
 "nbformat": 4,
 "nbformat_minor": 2
}
