{
 "cells": [
  {
   "cell_type": "markdown",
   "metadata": {},
   "source": [
    "## FOR DÖNGÜSÜ"
   ]
  },
  {
   "cell_type": "code",
   "execution_count": 2,
   "metadata": {},
   "outputs": [
    {
     "name": "stdout",
     "output_type": "stream",
     "text": [
      "pantolon\n",
      "etek\n",
      "kazak\n",
      "tshirt\n",
      "bluz\n"
     ]
    }
   ],
   "source": [
    "kiyafet_çeşitleri=['pantolon','etek','kazak','tshirt','bluz']\n",
    "for kiyafet in kiyafet_çeşitleri:\n",
    "    print(kiyafet)\n",
    "    "
   ]
  },
  {
   "cell_type": "code",
   "execution_count": 8,
   "metadata": {},
   "outputs": [
    {
     "name": "stdout",
     "output_type": "stream",
     "text": [
      "0\n",
      "2\n",
      "4\n",
      "6\n",
      "8\n",
      "1\n",
      "3\n",
      "5\n",
      "7\n",
      "9\n"
     ]
    }
   ],
   "source": [
    "çift_sayilar=[0,2,4,6,8]\n",
    "for yemek in çift_sayilar:\n",
    "    print(yemek)\n",
    "\n",
    "for x in çift_sayilar:\n",
    "    print(x+1)\n",
    "    \n"
   ]
  },
  {
   "cell_type": "code",
   "execution_count": 13,
   "metadata": {},
   "outputs": [
    {
     "name": "stdout",
     "output_type": "stream",
     "text": [
      "0\n",
      "2\n",
      "4\n",
      "6\n",
      "8\n"
     ]
    }
   ],
   "source": [
    "for x in range(0,10,2):\n",
    "    print(x)\n",
    "    \n"
   ]
  },
  {
   "cell_type": "code",
   "execution_count": 17,
   "metadata": {},
   "outputs": [
    {
     "name": "stdout",
     "output_type": "stream",
     "text": [
      "1\n",
      "3\n",
      "5\n",
      "7\n",
      "9\n"
     ]
    }
   ],
   "source": [
    "for x in range(0,10,2):\n",
    "    print(x+1)\n"
   ]
  },
  {
   "cell_type": "code",
   "execution_count": 20,
   "metadata": {},
   "outputs": [
    {
     "name": "stdout",
     "output_type": "stream",
     "text": [
      "0 pantolon\n",
      "1 etek\n",
      "2 kazak\n",
      "3 tshirt\n",
      "4 bluz\n"
     ]
    }
   ],
   "source": [
    "kiyafet_cesitleri=['pantolon','etek','kazak','tshirt','bluz']\n",
    "for sira,kiyafet in enumerate(kiyafet_cesitleri):\n",
    "    print(sira,kiyafet)"
   ]
  },
  {
   "cell_type": "code",
   "execution_count": 24,
   "metadata": {},
   "outputs": [
    {
     "name": "stdout",
     "output_type": "stream",
     "text": [
      "bluz etek\n",
      "bluz pantolon\n",
      "bluz sort\n",
      "kazak etek\n",
      "kazak pantolon\n",
      "kazak sort\n",
      "gömlek etek\n",
      "gömlek pantolon\n",
      "gömlek sort\n"
     ]
    }
   ],
   "source": [
    "alt_giyim=[\"etek\",\"pantolon\",\"sort\"]\n",
    "ust_giyim=[\"bluz\",\"kazak\",\"gömlek\"]\n",
    "for ust in ust_giyim:\n",
    "    for alt in alt_giyim:\n",
    "        print(ust,alt)"
   ]
  },
  {
   "cell_type": "code",
   "execution_count": 28,
   "metadata": {},
   "outputs": [
    {
     "name": "stdout",
     "output_type": "stream",
     "text": [
      "a\n",
      "r\n",
      "d\n",
      "a\n"
     ]
    }
   ],
   "source": [
    "balim='arda'\n",
    "for karakter in balim:\n",
    "    print(karakter)"
   ]
  },
  {
   "cell_type": "markdown",
   "metadata": {},
   "source": [
    "## WHİLE DÖNGÜSÜ"
   ]
  },
  {
   "cell_type": "code",
   "execution_count": null,
   "metadata": {},
   "outputs": [],
   "source": []
  }
 ],
 "metadata": {
  "kernelspec": {
   "display_name": "Python 3",
   "language": "python",
   "name": "python3"
  },
  "language_info": {
   "codemirror_mode": {
    "name": "ipython",
    "version": 3
   },
   "file_extension": ".py",
   "mimetype": "text/x-python",
   "name": "python",
   "nbconvert_exporter": "python",
   "pygments_lexer": "ipython3",
   "version": "3.11.9"
  }
 },
 "nbformat": 4,
 "nbformat_minor": 2
}
